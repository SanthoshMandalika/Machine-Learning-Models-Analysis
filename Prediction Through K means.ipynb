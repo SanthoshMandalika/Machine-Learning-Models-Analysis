{
 "cells": [
  {
   "cell_type": "code",
   "execution_count": 1,
   "id": "94cc2881",
   "metadata": {},
   "outputs": [],
   "source": [
    "import pandas as pd\n",
    "import numpy as np\n",
    "from pandas.plotting import scatter_matrix\n",
    "from matplotlib import pyplot\n",
    "from sklearn.cluster import KMeans"
   ]
  },
  {
   "cell_type": "code",
   "execution_count": 2,
   "id": "04e7f295",
   "metadata": {},
   "outputs": [],
   "source": [
    "filename= 'car_evaluation.csv'\n",
    "names=['Price','Maintenance','Doors','Passengers','Luggage','Safety','Evaluation']\n",
    "df = pd.read_csv(filename,names=names)"
   ]
  },
  {
   "cell_type": "code",
   "execution_count": 6,
   "id": "4fd7a75a",
   "metadata": {},
   "outputs": [
    {
     "name": "stdout",
     "output_type": "stream",
     "text": [
      "Price          0\n",
      "Maintenance    0\n",
      "Doors          0\n",
      "Passengers     0\n",
      "Luggage        0\n",
      "Safety         0\n",
      "Evaluation     0\n",
      "dtype: int64\n"
     ]
    }
   ],
   "source": [
    "df2=df.replace(0, np.nan)\n",
    "print (df2.isnull().sum())"
   ]
  },
  {
   "cell_type": "code",
   "execution_count": 7,
   "id": "c82139b7",
   "metadata": {},
   "outputs": [
    {
     "name": "stdout",
     "output_type": "stream",
     "text": [
      "(1728, 7)\n"
     ]
    }
   ],
   "source": [
    "print(df2.shape)"
   ]
  },
  {
   "cell_type": "code",
   "execution_count": 8,
   "id": "3397ff13",
   "metadata": {},
   "outputs": [
    {
     "name": "stdout",
     "output_type": "stream",
     "text": [
      "Price          object\n",
      "Maintenance    object\n",
      "Doors          object\n",
      "Passengers     object\n",
      "Luggage        object\n",
      "Safety         object\n",
      "Evaluation     object\n",
      "dtype: object\n"
     ]
    }
   ],
   "source": [
    "print(df2.dtypes)"
   ]
  },
  {
   "cell_type": "code",
   "execution_count": 9,
   "id": "b4dc6b32",
   "metadata": {},
   "outputs": [
    {
     "name": "stdout",
     "output_type": "stream",
     "text": [
      "   Price Maintenance Doors Passengers Luggage Safety Evaluation\n",
      "0  vhigh       vhigh     2          2   small    low      unacc\n",
      "1  vhigh       vhigh     2          2   small    med      unacc\n",
      "2  vhigh       vhigh     2          2   small   high      unacc\n",
      "3  vhigh       vhigh     2          2     med    low      unacc\n",
      "4  vhigh       vhigh     2          2     med    med      unacc\n"
     ]
    }
   ],
   "source": [
    "print(df2.head(5))"
   ]
  },
  {
   "cell_type": "code",
   "execution_count": 10,
   "id": "c1f257a4",
   "metadata": {},
   "outputs": [
    {
     "name": "stdout",
     "output_type": "stream",
     "text": [
      "        Price Maintenance Doors Passengers Luggage Safety Evaluation\n",
      "count    1728        1728  1728       1728    1728   1728       1728\n",
      "unique      4           4     4          3       3      3          4\n",
      "top     vhigh       vhigh     2          2   small    low      unacc\n",
      "freq      432         432   432        576     576    576       1210\n"
     ]
    }
   ],
   "source": [
    "print(df2.describe())"
   ]
  },
  {
   "cell_type": "code",
   "execution_count": 37,
   "id": "e08664ab",
   "metadata": {},
   "outputs": [
    {
     "name": "stdout",
     "output_type": "stream",
     "text": [
      "Evaluation\n",
      "0     384\n",
      "1      69\n",
      "2    1210\n",
      "3      65\n",
      "dtype: int64\n"
     ]
    }
   ],
   "source": [
    "print(df2.groupby('Evaluation').size())"
   ]
  },
  {
   "cell_type": "code",
   "execution_count": 38,
   "id": "4d54bc69",
   "metadata": {},
   "outputs": [],
   "source": [
    "from sklearn.preprocessing import LabelEncoder\n",
    "label_encoder = LabelEncoder()\n",
    "non_numeric_columns = df2.select_dtypes(include=['object']).columns\n",
    "for col in non_numeric_columns:\n",
    "    df2[col] = label_encoder.fit_transform(df2[col])"
   ]
  },
  {
   "cell_type": "code",
   "execution_count": 39,
   "id": "5a2bd574",
   "metadata": {},
   "outputs": [],
   "source": [
    "# Store dataframe values into a numpy array\n",
    "array = df2.values\n",
    "array = np.asarray(array)\n",
    "# separate array into input and output components by slicing\n",
    "# For X (input)\n",
    "X = array[:,1:7]\n",
    "# For Y (input)\n",
    "Y = array[:,6]\n",
    "df2.Evaluation = pd.Categorical(df2.Evaluation)\n",
    "df2['Evaluation'] = df2.Evaluation.cat.codes"
   ]
  },
  {
   "cell_type": "code",
   "execution_count": 40,
   "id": "6760b57a",
   "metadata": {},
   "outputs": [
    {
     "name": "stdout",
     "output_type": "stream",
     "text": [
      "Price          int32\n",
      "Maintenance    int32\n",
      "Doors          int32\n",
      "Passengers     int32\n",
      "Luggage        int32\n",
      "Safety         int32\n",
      "Evaluation      int8\n",
      "dtype: object\n"
     ]
    }
   ],
   "source": [
    "print(df2.dtypes)"
   ]
  },
  {
   "cell_type": "code",
   "execution_count": 41,
   "id": "32fa6291",
   "metadata": {},
   "outputs": [
    {
     "name": "stderr",
     "output_type": "stream",
     "text": [
      "C:\\Users\\manda\\anaconda3\\Lib\\site-packages\\sklearn\\cluster\\_kmeans.py:1412: FutureWarning: The default value of `n_init` will change from 10 to 'auto' in 1.4. Set the value of `n_init` explicitly to suppress the warning\n",
      "  super()._check_params_vs_input(X, default_n_init=10)\n"
     ]
    },
    {
     "data": {
      "text/html": [
       "<style>#sk-container-id-2 {color: black;}#sk-container-id-2 pre{padding: 0;}#sk-container-id-2 div.sk-toggleable {background-color: white;}#sk-container-id-2 label.sk-toggleable__label {cursor: pointer;display: block;width: 100%;margin-bottom: 0;padding: 0.3em;box-sizing: border-box;text-align: center;}#sk-container-id-2 label.sk-toggleable__label-arrow:before {content: \"▸\";float: left;margin-right: 0.25em;color: #696969;}#sk-container-id-2 label.sk-toggleable__label-arrow:hover:before {color: black;}#sk-container-id-2 div.sk-estimator:hover label.sk-toggleable__label-arrow:before {color: black;}#sk-container-id-2 div.sk-toggleable__content {max-height: 0;max-width: 0;overflow: hidden;text-align: left;background-color: #f0f8ff;}#sk-container-id-2 div.sk-toggleable__content pre {margin: 0.2em;color: black;border-radius: 0.25em;background-color: #f0f8ff;}#sk-container-id-2 input.sk-toggleable__control:checked~div.sk-toggleable__content {max-height: 200px;max-width: 100%;overflow: auto;}#sk-container-id-2 input.sk-toggleable__control:checked~label.sk-toggleable__label-arrow:before {content: \"▾\";}#sk-container-id-2 div.sk-estimator input.sk-toggleable__control:checked~label.sk-toggleable__label {background-color: #d4ebff;}#sk-container-id-2 div.sk-label input.sk-toggleable__control:checked~label.sk-toggleable__label {background-color: #d4ebff;}#sk-container-id-2 input.sk-hidden--visually {border: 0;clip: rect(1px 1px 1px 1px);clip: rect(1px, 1px, 1px, 1px);height: 1px;margin: -1px;overflow: hidden;padding: 0;position: absolute;width: 1px;}#sk-container-id-2 div.sk-estimator {font-family: monospace;background-color: #f0f8ff;border: 1px dotted black;border-radius: 0.25em;box-sizing: border-box;margin-bottom: 0.5em;}#sk-container-id-2 div.sk-estimator:hover {background-color: #d4ebff;}#sk-container-id-2 div.sk-parallel-item::after {content: \"\";width: 100%;border-bottom: 1px solid gray;flex-grow: 1;}#sk-container-id-2 div.sk-label:hover label.sk-toggleable__label {background-color: #d4ebff;}#sk-container-id-2 div.sk-serial::before {content: \"\";position: absolute;border-left: 1px solid gray;box-sizing: border-box;top: 0;bottom: 0;left: 50%;z-index: 0;}#sk-container-id-2 div.sk-serial {display: flex;flex-direction: column;align-items: center;background-color: white;padding-right: 0.2em;padding-left: 0.2em;position: relative;}#sk-container-id-2 div.sk-item {position: relative;z-index: 1;}#sk-container-id-2 div.sk-parallel {display: flex;align-items: stretch;justify-content: center;background-color: white;position: relative;}#sk-container-id-2 div.sk-item::before, #sk-container-id-2 div.sk-parallel-item::before {content: \"\";position: absolute;border-left: 1px solid gray;box-sizing: border-box;top: 0;bottom: 0;left: 50%;z-index: -1;}#sk-container-id-2 div.sk-parallel-item {display: flex;flex-direction: column;z-index: 1;position: relative;background-color: white;}#sk-container-id-2 div.sk-parallel-item:first-child::after {align-self: flex-end;width: 50%;}#sk-container-id-2 div.sk-parallel-item:last-child::after {align-self: flex-start;width: 50%;}#sk-container-id-2 div.sk-parallel-item:only-child::after {width: 0;}#sk-container-id-2 div.sk-dashed-wrapped {border: 1px dashed gray;margin: 0 0.4em 0.5em 0.4em;box-sizing: border-box;padding-bottom: 0.4em;background-color: white;}#sk-container-id-2 div.sk-label label {font-family: monospace;font-weight: bold;display: inline-block;line-height: 1.2em;}#sk-container-id-2 div.sk-label-container {text-align: center;}#sk-container-id-2 div.sk-container {/* jupyter's `normalize.less` sets `[hidden] { display: none; }` but bootstrap.min.css set `[hidden] { display: none !important; }` so we also need the `!important` here to be able to override the default hidden behavior on the sphinx rendered scikit-learn.org. See: https://github.com/scikit-learn/scikit-learn/issues/21755 */display: inline-block !important;position: relative;}#sk-container-id-2 div.sk-text-repr-fallback {display: none;}</style><div id=\"sk-container-id-2\" class=\"sk-top-container\"><div class=\"sk-text-repr-fallback\"><pre>KMeans(n_clusters=3)</pre><b>In a Jupyter environment, please rerun this cell to show the HTML representation or trust the notebook. <br />On GitHub, the HTML representation is unable to render, please try loading this page with nbviewer.org.</b></div><div class=\"sk-container\" hidden><div class=\"sk-item\"><div class=\"sk-estimator sk-toggleable\"><input class=\"sk-toggleable__control sk-hidden--visually\" id=\"sk-estimator-id-2\" type=\"checkbox\" checked><label for=\"sk-estimator-id-2\" class=\"sk-toggleable__label sk-toggleable__label-arrow\">KMeans</label><div class=\"sk-toggleable__content\"><pre>KMeans(n_clusters=3)</pre></div></div></div></div></div>"
      ],
      "text/plain": [
       "KMeans(n_clusters=3)"
      ]
     },
     "execution_count": 41,
     "metadata": {},
     "output_type": "execute_result"
    }
   ],
   "source": [
    "model = KMeans(n_clusters=3)\n",
    "model.fit(X)"
   ]
  },
  {
   "cell_type": "code",
   "execution_count": 42,
   "id": "085b3f19",
   "metadata": {},
   "outputs": [
    {
     "name": "stdout",
     "output_type": "stream",
     "text": [
      "[[1.38952164 1.61958998 1.49886105 0.8952164  0.98405467 0.12528474]\n",
      " [0.48012719 1.45468998 0.81399046 1.0317965  0.99523052 2.04928458]\n",
      " [2.54545455 1.46363636 0.84545455 1.03939394 1.01515152 2.03030303]]\n"
     ]
    }
   ],
   "source": [
    "centroids = model.cluster_centers_\n",
    "print(centroids)"
   ]
  },
  {
   "cell_type": "code",
   "execution_count": 43,
   "id": "713099ba",
   "metadata": {},
   "outputs": [
    {
     "name": "stdout",
     "output_type": "stream",
     "text": [
      "[2 2 2 2 2 2 2 2 2 2 2 1 1 1 1 1 1 1 1 1 1 1 2 0 2 2 0 2 2 0 2 0 0 1 0 0 1\n",
      " 1 1 1 0 1 1 0 2 2 2 2 2 2 2 2 2 2 1 1 1 1 1 0 1 0 0 1 1 2 2 2 2 2 0 2 2 2\n",
      " 0 2 1 0 1 1 0 1 1 0 1 0 0 2 0 0 2 2 2 2 0 2 2 0 1 1 1 0 1 1 0 1 1 0 2 0 2\n",
      " 2 0 2 2 0 2 2 0 1 1 0 1 1 0 1 1 1 0 1 2 0 2 2 0 2 2 0 2 0 0 1 0 1 1 0 1 1\n",
      " 0 1 1 0 2 2 2 2 2 2 2 2 2 2 1 0 1 1 0 1 1 0 1 1 0]\n"
     ]
    }
   ],
   "source": [
    "cluster_labels = model.labels_[::10]\n",
    "print (cluster_labels)"
   ]
  },
  {
   "cell_type": "code",
   "execution_count": 44,
   "id": "9d02274a",
   "metadata": {},
   "outputs": [
    {
     "name": "stdout",
     "output_type": "stream",
     "text": [
      "[2 2 2 ... 1 0 1]\n"
     ]
    }
   ],
   "source": [
    "cluster_labels = model.labels_\n",
    "print (cluster_labels)"
   ]
  },
  {
   "cell_type": "code",
   "execution_count": 45,
   "id": "e8350328",
   "metadata": {},
   "outputs": [
    {
     "data": {
      "image/png": "[encoded data removed]",
      "text/plain": [
       "<Figure size 640x480 with 1 Axes>"
      ]
     },
     "metadata": {},
     "output_type": "display_data"
    }
   ],
   "source": [
    "pyplot.scatter (X[:,0], X[:,1], c=model.labels_, cmap='rainbow')\n",
    "pyplot.show()"
   ]
  },
  {
   "cell_type": "code",
   "execution_count": 46,
   "id": "9cfe4a68",
   "metadata": {},
   "outputs": [
    {
     "name": "stderr",
     "output_type": "stream",
     "text": [
      "C:\\Users\\manda\\AppData\\Local\\Temp\\ipykernel_31708\\39166585.py:2: UserWarning: color is redundantly defined by the 'color' keyword argument and the fmt string \"kx\" (-> color='k'). The keyword argument will take precedence.\n",
      "  lines= pyplot.plot(centroids[0,0], centroids[0,1], 'kx', color='black')\n",
      "C:\\Users\\manda\\AppData\\Local\\Temp\\ipykernel_31708\\39166585.py:5: UserWarning: color is redundantly defined by the 'color' keyword argument and the fmt string \"kx\" (-> color='k'). The keyword argument will take precedence.\n",
      "  lines = pyplot.plot(centroids[1,0], centroids[1,1], 'kx', color='black')\n",
      "C:\\Users\\manda\\AppData\\Local\\Temp\\ipykernel_31708\\39166585.py:8: UserWarning: color is redundantly defined by the 'color' keyword argument and the fmt string \"kx\" (-> color='k'). The keyword argument will take precedence.\n",
      "  lines= pyplot.plot(centroids[2,0], centroids[2,1], 'kx', color='black')\n"
     ]
    },
    {
     "data": {
      "image/png": "[encoded data removed]",
      "text/plain": [
       "<Figure size 640x480 with 1 Axes>"
      ]
     },
     "metadata": {},
     "output_type": "display_data"
    }
   ],
   "source": [
    "pyplot.scatter (X[:,0], X[:,1], c=model.labels_, cmap='rainbow')\n",
    "lines= pyplot.plot(centroids[0,0], centroids[0,1], 'kx', color='black')\n",
    "pyplot.setp(lines,ms=15.0)\n",
    "pyplot.setp(lines, mew=2.0)\n",
    "lines = pyplot.plot(centroids[1,0], centroids[1,1], 'kx', color='black')\n",
    "pyplot.setp(lines,ms=15.0)\n",
    "pyplot.setp(lines, mew=2.0)\n",
    "lines= pyplot.plot(centroids[2,0], centroids[2,1], 'kx', color='black')\n",
    "pyplot.setp (lines,ms=15.0)\n",
    "pyplot.setp (lines, mew=2.0)\n",
    "pyplot.show()"
   ]
  },
  {
   "cell_type": "code",
   "execution_count": 47,
   "id": "4cb412cf",
   "metadata": {},
   "outputs": [],
   "source": [
    "new_data = {\n",
    "    'Price': ['vhigh'],\n",
    "    'Maintenance': ['vhigh'],\n",
    "    'Doors': [2],\n",
    "    'Passengers': [2],\n",
    "    'Luggage': ['small'],\n",
    "    'Safety': ['low']\n",
    "}\n",
    "new_df = pd.DataFrame(new_data)"
   ]
  },
  {
   "cell_type": "code",
   "execution_count": 48,
   "id": "5bafa561",
   "metadata": {},
   "outputs": [],
   "source": [
    "label_encoder = LabelEncoder()\n",
    "non_numeric_columns = new_df.select_dtypes(include=['object']).columns\n",
    "for col in non_numeric_columns:\n",
    "    new_df[col] = label_encoder.fit_transform(new_df[col])"
   ]
  },
  {
   "cell_type": "code",
   "execution_count": 49,
   "id": "bcbbde83",
   "metadata": {},
   "outputs": [
    {
     "name": "stdout",
     "output_type": "stream",
     "text": [
      "[0]\n"
     ]
    },
    {
     "name": "stderr",
     "output_type": "stream",
     "text": [
      "C:\\Users\\manda\\anaconda3\\Lib\\site-packages\\sklearn\\base.py:457: UserWarning: X has feature names, but KMeans was fitted without feature names\n",
      "  warnings.warn(\n"
     ]
    }
   ],
   "source": [
    "predicted = model.predict(new_df)\n",
    "print(predicted)"
   ]
  },
  {
   "cell_type": "code",
   "execution_count": 50,
   "id": "82090ef7",
   "metadata": {},
   "outputs": [],
   "source": [
    "new_data1 = {\n",
    "    'Price': ['vhigh'],\n",
    "    'Maintenance': ['med'],\n",
    "    'Doors': [2],\n",
    "    'Passengers': [4],\n",
    "    'Luggage': ['small'],\n",
    "    'Safety': ['high']\n",
    "}\n",
    "new_df1 = pd.DataFrame(new_data1)"
   ]
  },
  {
   "cell_type": "code",
   "execution_count": 51,
   "id": "1af3e1ca",
   "metadata": {},
   "outputs": [],
   "source": [
    "label_encoder = LabelEncoder()\n",
    "non_numeric_columns = new_df1.select_dtypes(include=['object']).columns\n",
    "for col in non_numeric_columns:\n",
    "    new_df1[col] = label_encoder.fit_transform(new_df1[col])"
   ]
  },
  {
   "cell_type": "code",
   "execution_count": 52,
   "id": "7885f898",
   "metadata": {},
   "outputs": [
    {
     "name": "stdout",
     "output_type": "stream",
     "text": [
      "[0]\n"
     ]
    },
    {
     "name": "stderr",
     "output_type": "stream",
     "text": [
      "C:\\Users\\manda\\anaconda3\\Lib\\site-packages\\sklearn\\base.py:457: UserWarning: X has feature names, but KMeans was fitted without feature names\n",
      "  warnings.warn(\n"
     ]
    }
   ],
   "source": [
    "predicted = model.predict(new_df1)\n",
    "print(predicted)"
   ]
  }
 ],
 "metadata": {
  "kernelspec": {
   "display_name": "Python 3 (ipykernel)",
   "language": "python",
   "name": "python3"
  },
  "language_info": {
   "codemirror_mode": {
    "name": "ipython",
    "version": 3
   },
   "file_extension": ".py",
   "mimetype": "text/x-python",
   "name": "python",
   "nbconvert_exporter": "python",
   "pygments_lexer": "ipython3",
   "version": "3.11.4"
  }
 },
 "nbformat": 4,
 "nbformat_minor": 5
}
